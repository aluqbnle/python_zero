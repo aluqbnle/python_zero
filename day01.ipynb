{
  "nbformat": 4,
  "nbformat_minor": 0,
  "metadata": {
    "colab": {
      "name": "day01.ipynb",
      "version": "0.3.2",
      "provenance": [],
      "collapsed_sections": [],
      "include_colab_link": true
    },
    "kernelspec": {
      "name": "python3",
      "display_name": "Python 3"
    }
  },
  "cells": [
    {
      "cell_type": "markdown",
      "metadata": {
        "id": "view-in-github",
        "colab_type": "text"
      },
      "source": [
        "<a href=\"https://colab.research.google.com/github/aluqbnle/python_zero/blob/master/day01.ipynb\" target=\"_parent\"><img src=\"https://colab.research.google.com/assets/colab-badge.svg\" alt=\"Open In Colab\"/></a>"
      ]
    },
    {
      "metadata": {
        "id": "BH2IQFSqxG6i",
        "colab_type": "code",
        "colab": {}
      },
      "cell_type": "code",
      "source": [
        "from PIL import Image, ImageDraw\n",
        "import IPython\n",
        "from math import pi, sin, cos"
      ],
      "execution_count": 0,
      "outputs": []
    },
    {
      "metadata": {
        "id": "BHnqB2xexJN0",
        "colab_type": "code",
        "colab": {}
      },
      "cell_type": "code",
      "source": [
        "im = Image.new(\"RGB\", (256, 256))\n",
        "draw = ImageDraw.Draw(im)\n",
        "cx = 128\n",
        "cy = 128\n",
        "r = 64\n",
        "draw.ellipse((cx - r, cy - r, cx + r, cy + r), outline=(255, 255, 255))\n",
        "# ↓ここから追加 (このコメントは入力しなくて良い)\n",
        "n = 5\n",
        "t = 2.0 * pi / n * (n // 2)\n",
        "for i in range(n):\n",
        "  s1 = t*i\n",
        "  s2 = s1+t\n",
        "  x1 = r*cos(s1)+cx\n",
        "  y1 = r*sin(s1)+cy\n",
        "  x2 = r*cos(s2)+cx\n",
        "  y2 = r*sin(s2)+cy\n",
        "  draw.line((x1,y1,x2,y2),fill=(255,255,255))\n"
      ],
      "execution_count": 0,
      "outputs": []
    },
    {
      "metadata": {
        "id": "Yf31oZlUxNeT",
        "colab_type": "code",
        "colab": {
          "base_uri": "https://localhost:8080/",
          "height": 273
        },
        "outputId": "d502d460-c1e6-46a2-ee55-cc22762f255b"
      },
      "cell_type": "code",
      "source": [
        "im.save(\"test.png\")\n",
        "IPython.display.Image(\"test.png\")"
      ],
      "execution_count": 8,
      "outputs": [
        {
          "output_type": "execute_result",
          "data": {
            "image/png": "[encoded data removed]",
            "text/plain": [
              "<IPython.core.display.Image object>"
            ]
          },
          "metadata": {
            "tags": []
          },
          "execution_count": 8
        }
      ]
    },
    {
      "metadata": {
        "id": "KoQxMD6gxRcw",
        "colab_type": "code",
        "colab": {}
      },
      "cell_type": "code",
      "source": [
        ""
      ],
      "execution_count": 0,
      "outputs": []
    }
  ]
}